{
  "nbformat": 4,
  "nbformat_minor": 0,
  "metadata": {
    "colab": {
      "provenance": [],
      "authorship_tag": "ABX9TyNYpPSnaZj+5PIbAwOA/nao"
    },
    "kernelspec": {
      "name": "python3",
      "display_name": "Python 3"
    },
    "language_info": {
      "name": "python"
    }
  },
  "cells": [
    {
      "cell_type": "code",
      "source": [
        "!pip install selenium\n",
        "!pip install python-dotenv\n",
        "!pip install pytest-playwright\n",
        "!playwright install\n",
        "!pip install nest_asyncio"
      ],
      "metadata": {
        "id": "wFzsTu8DGoTc"
      },
      "execution_count": null,
      "outputs": []
    },
    {
      "cell_type": "code",
      "execution_count": null,
      "metadata": {
        "id": "pZ18kckFForF"
      },
      "outputs": [],
      "source": [
        "import nest_asyncio\n",
        "import asyncio\n",
        "from playwright.async_api import async_playwright\n",
        "\n",
        "nest_asyncio.apply()\n",
        "\n",
        "async def scrape_website(url, next_button_class, element_to_check):\n",
        "    count = 0\n",
        "    async with async_playwright() as p:\n",
        "        browser = await p.chromium.launch(headless=True)\n",
        "        page = await browser.new_page()\n",
        "        await page.goto(url)\n",
        "\n",
        "        while True:\n",
        "            await page.wait_for_selector('body')\n",
        "            page_source = await page.content()\n",
        "\n",
        "            count += 1\n",
        "            print(count)\n",
        "            # print(page_source)\n",
        "\n",
        "            try:\n",
        "                next_button = page.locator(f'.{next_button_class}')\n",
        "                if await next_button.count() > 0:\n",
        "                    await next_button.click()\n",
        "                    await page.wait_for_load_state('networkidle')  # Wait until the next page is loaded\n",
        "                    await page.wait_for_selector(element_to_check)  # Wait for specific element to be visible\n",
        "                    await page.mouse.click(x=0, y=page.viewport_size['height'] // 2)  # Perform the additional action\n",
        "                else:\n",
        "                    print(\"No more pages.\")\n",
        "                    break\n",
        "            except Exception as e:\n",
        "                print(f\"An error occurred: {e}\")\n",
        "                break\n",
        "\n",
        "        await browser.close()\n",
        "\n",
        "async def main():\n",
        "    await scrape_website('https://2717recovery.com/products/recovery-cream', 'jdgm-paginate__next-page', 'body')\n",
        "    # await scrape_website('https://bhumi.com.au/products/organic-cotton-blissful-ritual-twill-bath-sheet-bundle', 'yotpo-reviews-pagination-item', 'body')\n",
        "\n",
        "asyncio.run(main())\n"
      ]
    },
    {
      "cell_type": "code",
      "source": [],
      "metadata": {
        "id": "DVw5Zd0mdqgY"
      },
      "execution_count": null,
      "outputs": []
    }
  ]
}